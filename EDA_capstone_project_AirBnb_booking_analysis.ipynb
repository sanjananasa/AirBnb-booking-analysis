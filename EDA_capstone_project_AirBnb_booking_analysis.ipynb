{
  "nbformat": 4,
  "nbformat_minor": 0,
  "metadata": {
    "colab": {
      "private_outputs": true,
      "provenance": [],
      "collapsed_sections": [
        "dauF4eBmngu3"
      ]
    },
    "kernelspec": {
      "name": "python3",
      "display_name": "Python 3"
    },
    "language_info": {
      "name": "python"
    }
  },
  "cells": [
    {
      "cell_type": "markdown",
      "source": [
        "# **Project Name**    -\n",
        "\n"
      ],
      "metadata": {
        "id": "vncDsAP0Gaoa"
      }
    },
    {
      "cell_type": "markdown",
      "source": [
        "##### **Project Type**    - EDA(AirBnb Booking Analysis)\n",
        "##### **Contribution**    - Individual\n",
        "##### **(Sanjana Nasa)**"
      ],
      "metadata": {
        "id": "beRrZCGUAJYm"
      }
    },
    {
      "cell_type": "markdown",
      "source": [
        "# **Project Summary -**"
      ],
      "metadata": {
        "id": "FJNUwmbgGyua"
      }
    },
    {
      "cell_type": "markdown",
      "source": [
        "### **AirBnb Booking analysis**\n",
        "\n",
        "---\n",
        "Airbnb, as in **“Air Bed and Breakfast,”** is a service that lets property owners rent out their spaces to travelers looking for a place to stay. Travelers can rent a space for multiple people to share, a shared space with private rooms, or the entire property for themselves.\n",
        "\n",
        "The company was founded in 2008 by Brian Chesky, Nathan Blecharczyk, and Joe Gebbia.\n",
        "\n",
        "Here,in this project, we are going to do **Exploratory Data Analysis** on the dataset of the year 2019.\n",
        "\n",
        "The dataset contains around 49000 observations with 16 columns in it  and is a mix of categorical and numeric values.\n",
        "\n",
        "\n",
        "\n",
        "\n",
        "\n",
        "\n",
        "\n",
        "\n"
      ],
      "metadata": {
        "id": "F6v_1wHtG2nS"
      }
    },
    {
      "cell_type": "markdown",
      "source": [
        "## **CATEGORICAL** **VALUES**                                     \n",
        "\n",
        "1. name\n",
        "2. host_name\n",
        "3. neighbourhood\n",
        "2. neighbourhood_group\n",
        "5. room_type\n",
        "\n",
        "## **NUMERICAL VALUES**\n",
        "\n",
        "\n",
        "\n",
        "1. latitude\n",
        "2. longitude\n",
        "3. price\n",
        "2. number_of_reviews\n",
        "5. minimum_nights\n",
        "2. reviews_per_month\n",
        "7.  calculated_host_listings_count        0        \n",
        "2.   availability_365\n",
        "\n",
        "## **DATE**\n",
        "\n",
        "\n",
        "1. last_review\n",
        "\n",
        "## **UNIQUE**\n",
        "\n",
        "\n",
        "1. id\n",
        "2. host_id\n",
        "\n",
        "\n",
        "\n",
        "\n",
        "\n",
        "\n",
        "\n",
        "\n",
        "\n",
        "\n",
        "\n",
        "\n",
        "\n",
        "\n",
        "\n",
        "\n",
        "\n",
        "\n",
        "\n",
        "\n",
        "\n"
      ],
      "metadata": {
        "id": "gfoNAAC-nUe_"
      }
    },
    {
      "cell_type": "markdown",
      "source": [
        "\n",
        "\n",
        "* **id**- unique id for the property\n",
        "* **name**-name of the listing house/apartment\n",
        "* **host_id**- it is the unique id for each individual who list their property on AirBnb\n",
        "* **host_name**-name of the individual who owns the property listed on AirBnb\n",
        "* **neighbourhood_group**-location of the property in a particular area\n",
        "* **neighbourhood-**name of the area where property is located\n",
        "* **latitude**- measurement of distance north/south of the equator\n",
        "* **longitude**-measurement of distance east/west of the prime meridien\n",
        "* **room_type**-category of the room, namely-private room, entire home/apartment, shared room\n",
        "* **price**-total price for the booking based on the price set by the host plus taxes and other fee charged by Airbnb\n",
        "* **minimum_nights**-number of nights for which the property is being booked for\n",
        "* **number_of_reviews**-number of reviews of each host submitted by the guests\n",
        "* **last_review**-date on which latest/last review was submitted by the guest\n",
        "* **reviews_per_month**-number of reviews a host gets per month\n",
        "* **calculated_host_listings_count**-number of listings owned by a host\n",
        "* **availability_365**-number of days for which the listing is available during the year\n",
        "\n",
        "\n",
        "\n",
        "\n",
        "\n",
        "\n",
        "\n",
        "\n",
        "\n",
        "\n",
        "\n",
        "\n",
        "\n",
        "\n",
        "\n",
        "\n",
        "\n",
        "\n",
        "\n",
        "\n",
        "\n",
        "\n"
      ],
      "metadata": {
        "id": "aJV4KIxSnxay"
      }
    },
    {
      "cell_type": "markdown",
      "source": [
        "# **GitHub Link -**"
      ],
      "metadata": {
        "id": "w6K7xa23Elo4"
      }
    },
    {
      "cell_type": "markdown",
      "source": [
        "https://github.com/sanjananasa/AirBnb-booking-analysis.git"
      ],
      "metadata": {
        "id": "h1o69JH3Eqqn"
      }
    },
    {
      "cell_type": "markdown",
      "source": [
        "# **Problem Statement**\n",
        "\n",
        "The main objective of the analysis would be to explore insights based on the data given to us as statements such as hosts, areas, prices, location, availability, reviews but ofcourse, we are not restricted to it. we would try to explore some more insights as well.\n"
      ],
      "metadata": {
        "id": "yQaldy8SH6Dl"
      }
    },
    {
      "cell_type": "markdown",
      "source": [
        "Using the given dataset ,we'll try to find out answers to the following questions-\n",
        "\n",
        "1. which type of room is preferred the most?\n",
        "2. price distribution according to room type\n",
        "2. Is Manhattan preferred over other areas?\n",
        "3. What is the average price for each area?\n",
        "4. top 5 neighbourhoods having highest number of apartments\n",
        "5. top 5 hosts receiving highest number of reviews\n",
        "6. name of the host who owns maximum number of listings\n",
        "7. Establishing relationship between variables\n",
        "8. visualize the location of each apartment using latitude and longitude values\n",
        "\n"
      ],
      "metadata": {
        "id": "DpeJGUA3kjGy"
      }
    },
    {
      "cell_type": "markdown",
      "source": [
        "#### **Define Your Business Objective?**"
      ],
      "metadata": {
        "id": "PH-0ReGfmX4f"
      }
    },
    {
      "cell_type": "markdown",
      "source": [
        "“Airbnb's mission is to create a world where anyone can belong anywhere, and we are focused on creating an end-to-end travel platform that will handle every part of your trip.”\n",
        "\n",
        "Through facilitating access to distinctive spaces and local culture, Airbnb aims to enable travelers to “feel at home anywhere you go in the world” by building connections with local hosts, gaining access to distinctive spaces and culture of their destinations.\n",
        "\n",
        "Airbnb is a peer-to-peer platform collecting a “platform tax” by charging guests a service fee between 5%-20% of the booking and hosts 3%.\n",
        "\n",
        " AirBnB applied Platform Thinkingto solve the problem of traveller accommodation. It didn't compete on features. Instead, it created a platform that allowed anyone with a spare room, apartment or island to start running a B&B with access to a global market of travelers."
      ],
      "metadata": {
        "id": "PhDvGCAqmjP1"
      }
    },
    {
      "cell_type": "markdown",
      "source": [
        "# ***Let's Begin !***"
      ],
      "metadata": {
        "id": "O_i_v8NEhb9l"
      }
    },
    {
      "cell_type": "markdown",
      "source": [
        "## ***1. Know Your Data***"
      ],
      "metadata": {
        "id": "HhfV-JJviCcP"
      }
    },
    {
      "cell_type": "markdown",
      "source": [
        "### Import Libraries"
      ],
      "metadata": {
        "id": "Y3lxredqlCYt"
      }
    },
    {
      "cell_type": "code",
      "source": [
        "# Import Libraries\n",
        "import pandas as pd\n",
        "import numpy as np\n",
        "import matplotlib.pyplot as plt\n",
        "import seaborn as sns\n",
        "%matplotlib inline\n"
      ],
      "metadata": {
        "id": "M8Vqi-pPk-HR"
      },
      "execution_count": null,
      "outputs": []
    },
    {
      "cell_type": "markdown",
      "source": [
        "### Dataset Loading"
      ],
      "metadata": {
        "id": "3RnN4peoiCZX"
      }
    },
    {
      "cell_type": "code",
      "source": [
        "# Load Dataset\n",
        "from google.colab import drive\n",
        "drive.mount('/content/drive')"
      ],
      "metadata": {
        "id": "4CkvbW_SlZ_R"
      },
      "execution_count": null,
      "outputs": []
    },
    {
      "cell_type": "code",
      "source": [
        "file_path='/content/drive/MyDrive/Airbnb NYC 2019.csv'\n",
        "df=pd.read_csv(file_path)"
      ],
      "metadata": {
        "id": "f6sVwRXL05p2"
      },
      "execution_count": null,
      "outputs": []
    },
    {
      "cell_type": "markdown",
      "source": [
        "### Dataset First View"
      ],
      "metadata": {
        "id": "x71ZqKXriCWQ"
      }
    },
    {
      "cell_type": "code",
      "source": [
        "# Dataset First Look\n",
        "df"
      ],
      "metadata": {
        "id": "LWNFOSvLl09H"
      },
      "execution_count": null,
      "outputs": []
    },
    {
      "cell_type": "markdown",
      "source": [
        "### Dataset Rows & Columns count"
      ],
      "metadata": {
        "id": "7hBIi_osiCS2"
      }
    },
    {
      "cell_type": "code",
      "source": [
        "# Dataset Rows & Columns count\n",
        "df.shape"
      ],
      "metadata": {
        "id": "Kllu7SJgmLij"
      },
      "execution_count": null,
      "outputs": []
    },
    {
      "cell_type": "markdown",
      "source": [
        "number of rows=48895 ,\n",
        "\n",
        "number of columns=16"
      ],
      "metadata": {
        "id": "t0aoMiwg1cFn"
      }
    },
    {
      "cell_type": "markdown",
      "source": [
        "### Dataset Information"
      ],
      "metadata": {
        "id": "JlHwYmJAmNHm"
      }
    },
    {
      "cell_type": "code",
      "source": [
        "# Dataset Info\n",
        "df.info()"
      ],
      "metadata": {
        "id": "e9hRXRi6meOf"
      },
      "execution_count": null,
      "outputs": []
    },
    {
      "cell_type": "markdown",
      "source": [
        "# **Null values in dataset**"
      ],
      "metadata": {
        "id": "sMP1MysohMyF"
      }
    },
    {
      "cell_type": "code",
      "source": [
        "#null/missing values in each column\n",
        "number_of_null_values=df.isna().sum()\n",
        "print(number_of_null_values)\n",
        "\n"
      ],
      "metadata": {
        "id": "ZSqRU-AlhMCp"
      },
      "execution_count": null,
      "outputs": []
    },
    {
      "cell_type": "markdown",
      "source": [
        "## ***2. Understanding Your Variables***"
      ],
      "metadata": {
        "id": "nA9Y7ga8ng1Z"
      }
    },
    {
      "cell_type": "code",
      "source": [
        "# Dataset Columns\n",
        "df.columns"
      ],
      "metadata": {
        "id": "j7xfkqrt5Ag5"
      },
      "execution_count": null,
      "outputs": []
    },
    {
      "cell_type": "code",
      "source": [
        "# Dataset Describe\n",
        "df.describe()"
      ],
      "metadata": {
        "id": "DnOaZdaE5Q5t"
      },
      "execution_count": null,
      "outputs": []
    },
    {
      "cell_type": "markdown",
      "source": [
        "# **Observations**\n",
        "\n",
        "*   If we observe the **'price'** column,we can see the minimum price listed for the apartment is zero which is practically not possible, and\n",
        "*   the maximum price charged is 1000 which is way too high qnd we'll try to find out why is it so\n",
        "\n",
        "\n",
        "*  on an average a property is getting 1 review per month which can be a negative impact\n",
        "*   And if we see the  **'availability_365'** column which depicts the number of days for which the apartment is available round the year,we can see minimum and 25% availability as zero and maximum availability as 365.\n",
        "\n",
        "zero availabilty may be meant that the property is no more operational or it has been already been  pre booked for the year.\n",
        "\n",
        "and availabilty for the whole year may be concluded as the new property which is not getting bookings as of now or the reviews are not good.\n",
        "\n",
        "\n",
        "\n"
      ],
      "metadata": {
        "id": "9ahgJHN0sYfG"
      }
    },
    {
      "cell_type": "markdown",
      "source": [
        "## 3. ***Data Wrangling and visualisation***"
      ],
      "metadata": {
        "id": "dauF4eBmngu3"
      }
    },
    {
      "cell_type": "markdown",
      "source": [
        "# **Q1. which type of room is preferred the most and least?**"
      ],
      "metadata": {
        "id": "zwK8OkCP1RZ8"
      }
    },
    {
      "cell_type": "code",
      "source": [
        "#import library for plotting/visualising data\n",
        "import matplotlib.pyplot as plt\n",
        "%matplotlib inline"
      ],
      "metadata": {
        "id": "B1FEew14KPK2"
      },
      "execution_count": null,
      "outputs": []
    },
    {
      "cell_type": "code",
      "source": [
        "#room type preference\n",
        "bookings_for_each_room_type=df['room_type'].value_counts()\n",
        "print(bookings_for_each_room_type)"
      ],
      "metadata": {
        "id": "wk-9a2fpoLcV"
      },
      "execution_count": null,
      "outputs": []
    },
    {
      "cell_type": "code",
      "source": [
        "plt.rcParams['figure.figsize']=[10,5]\n",
        "plt.plot(bookings_for_each_room_type)\n",
        "plt.xlabel('type of room')\n",
        "plt.ylabel('number of bookings')"
      ],
      "metadata": {
        "id": "g70rtVaEKjEG"
      },
      "execution_count": null,
      "outputs": []
    },
    {
      "cell_type": "markdown",
      "source": [
        "\n",
        "\n",
        "* The number of bookings made are maximum for the entire home/apartment and then the second most preferred room type is private room\n",
        "* very less people prefer to book the shared room\n",
        "\n"
      ],
      "metadata": {
        "id": "alkw2eUy1uCg"
      }
    },
    {
      "cell_type": "markdown",
      "source": [
        "# **Q2.  Price distribution according to room type**"
      ],
      "metadata": {
        "id": "hxiBJ-uIHoyw"
      }
    },
    {
      "cell_type": "code",
      "source": [
        "avg_room_price=df.groupby(['neighbourhood_group','room_type'])['price'].mean().unstack()\n",
        "print(avg_room_price)"
      ],
      "metadata": {
        "id": "F1Lq7Svi1UgL"
      },
      "execution_count": null,
      "outputs": []
    },
    {
      "cell_type": "code",
      "source": [
        "avg_room_price.plot.bar(figsize=(10,5),ylabel='Average Price calculated')\n",
        "plt.title('price distribution')"
      ],
      "metadata": {
        "id": "UydaNPW12Try"
      },
      "execution_count": null,
      "outputs": []
    },
    {
      "cell_type": "markdown",
      "source": [
        "## **Observations-**\n",
        "\n",
        "1. we can see that Manhattan is the costliest and Bronx is the cheapest for all room type.\n",
        "\n",
        "2. we can make it more useful for business implementation if we do some analysis on successful hosts according to highest number of reviews and can suggest those prices to our other hosts to get good business.\n"
      ],
      "metadata": {
        "id": "gOIDrvY_J50t"
      }
    },
    {
      "cell_type": "markdown",
      "source": [
        "# **Q3.  Is Manhattan preferred over other  neighbourhood_group/area?**"
      ],
      "metadata": {
        "id": "OuqNk_aoNpAZ"
      }
    },
    {
      "cell_type": "code",
      "source": [
        "b=df.groupby(['neighbourhood_group'])['name'].count()\n",
        "print(b)"
      ],
      "metadata": {
        "id": "_8V5QFRDNogB"
      },
      "execution_count": null,
      "outputs": []
    },
    {
      "cell_type": "markdown",
      "source": [
        "### As the number of properties listed on AirBnb are maximum in Manhattan,so we can say that yes, Manhattan is preferred over other areas"
      ],
      "metadata": {
        "id": "FZqDh911l1zn"
      }
    },
    {
      "cell_type": "code",
      "source": [
        "area=['Bronx','Brooklyn','Manhattan','Queens','Staten Island']\n",
        "plt.pie(b,labels=area)\n",
        "plt.title('Number of properties in each area')\n"
      ],
      "metadata": {
        "id": "crria2SoP9ee"
      },
      "execution_count": null,
      "outputs": []
    },
    {
      "cell_type": "markdown",
      "source": [
        "# **Q4. average price of the property in each  area**\n",
        "\n",
        "---\n",
        "\n"
      ],
      "metadata": {
        "id": "qgYlB6z6Hps2"
      }
    },
    {
      "cell_type": "code",
      "source": [
        "#neighbourhoods along with the average prices charged there\n",
        "a=df.groupby(['neighbourhood_group'])['price'].mean()\n",
        "print(a)\n",
        "\n"
      ],
      "metadata": {
        "id": "YkKrhABt2zym"
      },
      "execution_count": null,
      "outputs": []
    },
    {
      "cell_type": "code",
      "source": [
        "a.plot(kind='barh')\n",
        "plt.xlabel('average price')\n"
      ],
      "metadata": {
        "id": "lePhzwEGJlwi"
      },
      "execution_count": null,
      "outputs": []
    },
    {
      "cell_type": "markdown",
      "source": [
        "\n",
        "\n",
        "### *   The average price charged for the room is highest in Manhattan which is nearly $200.This is much higher as compared to the prices in other areas.\n",
        "### *  This could be due to demand.As we have seen above that Manhattan is the most preferred area to stay\n",
        "\n"
      ],
      "metadata": {
        "id": "bMvjnuGHmzOI"
      }
    },
    {
      "cell_type": "markdown",
      "source": [
        "## **Q5. Top 5 neighbourhoods /locations having highest number of apartments**  **and 5 neighbourhoods with least number of apartments**"
      ],
      "metadata": {
        "id": "NzIFAKocROYx"
      }
    },
    {
      "cell_type": "code",
      "source": [
        "#top 5 neighbourhoods with maximum number of apartments\n",
        "df[['neighbourhood_group','neighbourhood']].value_counts().head(5)"
      ],
      "metadata": {
        "id": "Gp3ckhbURToc"
      },
      "execution_count": null,
      "outputs": []
    },
    {
      "cell_type": "code",
      "source": [
        "pd.value_counts(df['neighbourhood'])[:5].plot.bar()\n",
        "plt.ylabel('number of properties')"
      ],
      "metadata": {
        "id": "kP_DuF6XijeJ"
      },
      "execution_count": null,
      "outputs": []
    },
    {
      "cell_type": "code",
      "source": [
        "#neighbourhoods with least number of listings on AirBnb\n",
        "df[['neighbourhood_group','neighbourhood']].value_counts().tail(5)"
      ],
      "metadata": {
        "id": "fRPt5fG7i4eb"
      },
      "execution_count": null,
      "outputs": []
    },
    {
      "cell_type": "code",
      "source": [
        "df['neighbourhood'].value_counts().tail(5).plot.bar()\n",
        "plt.ylabel('number of properties')"
      ],
      "metadata": {
        "id": "88528GWpjee3"
      },
      "execution_count": null,
      "outputs": []
    },
    {
      "cell_type": "markdown",
      "source": [
        "# **Q6.  Top 5 hosts receiving highest  number of reviews per month**"
      ],
      "metadata": {
        "id": "bzf8Fea9Q4yL"
      }
    },
    {
      "cell_type": "code",
      "source": [
        "df.groupby(['host_id','host_name',],as_index=False)['number_of_reviews'].sum().sort_values(['number_of_reviews'],ascending = False).head(5)"
      ],
      "metadata": {
        "id": "r5b_ZXJLssGX"
      },
      "execution_count": null,
      "outputs": []
    },
    {
      "cell_type": "code",
      "source": [],
      "metadata": {
        "id": "p4b5Pg5_w3wc"
      },
      "execution_count": null,
      "outputs": []
    },
    {
      "cell_type": "markdown",
      "source": [
        "# **Q7. Host who owns maximum number of listings**"
      ],
      "metadata": {
        "id": "XqlwJElKfqVn"
      }
    },
    {
      "cell_type": "code",
      "source": [
        "#number of listingd owned by different hosts\n",
        "df['host_name'].value_counts()"
      ],
      "metadata": {
        "id": "oAq4XDtpfp7C"
      },
      "execution_count": null,
      "outputs": []
    },
    {
      "cell_type": "markdown",
      "source": [
        "### From above information, we can say that Michael owns maximum number of properties but that might not be 100% true insight because there may be more than one person named Michael.\n",
        "\n",
        "### so to get accurate answer we can use host_id which is unique for each host"
      ],
      "metadata": {
        "id": "VUSEQPGXO0IG"
      }
    },
    {
      "cell_type": "code",
      "source": [
        "#getting number of properties by host_id\n",
        "df['host_id'].value_counts()"
      ],
      "metadata": {
        "id": "e67WRrb1OIhr"
      },
      "execution_count": null,
      "outputs": []
    },
    {
      "cell_type": "markdown",
      "source": [
        "## A host with host_id **\"219517861\"** owns highest number of properties.\n",
        "\n",
        "## Let's find out name of the host\n",
        "\n",
        "\n",
        "\n"
      ],
      "metadata": {
        "id": "wfDfPZB0PsNQ"
      }
    },
    {
      "cell_type": "code",
      "source": [
        "df[df['host_id']==219517861]['host_name'].unique()"
      ],
      "metadata": {
        "id": "JoYkLeE6Omgf"
      },
      "execution_count": null,
      "outputs": []
    },
    {
      "cell_type": "markdown",
      "source": [
        "### Sonder (NYC) is the host with highest number of holdings."
      ],
      "metadata": {
        "id": "i1nLblfzQqUm"
      }
    },
    {
      "cell_type": "markdown",
      "source": [
        "# **Q8. Establishing relation between different variables**"
      ],
      "metadata": {
        "id": "32qAJWrIhq6S"
      }
    },
    {
      "cell_type": "code",
      "source": [
        "import seaborn as sns"
      ],
      "metadata": {
        "id": "ST-r6n4AdIZz"
      },
      "execution_count": null,
      "outputs": []
    },
    {
      "cell_type": "code",
      "source": [
        "#correlation between columns\n",
        "sns.heatmap(df.corr(),cmap='coolwarm',annot=True)"
      ],
      "metadata": {
        "id": "_VK7M890cR3g"
      },
      "execution_count": null,
      "outputs": []
    },
    {
      "cell_type": "markdown",
      "source": [
        "# **Q9. visualize the location of each apartment using latitude and longitude values**"
      ],
      "metadata": {
        "id": "4YvqJHgDwpsq"
      }
    },
    {
      "cell_type": "code",
      "source": [
        "sns.scatterplot(x=df['longitude'],y=df['latitude'],hue=df['neighbourhood_group'])\n",
        "plt.title('')"
      ],
      "metadata": {
        "id": "_H_5oXDBzp00"
      },
      "execution_count": null,
      "outputs": []
    },
    {
      "cell_type": "markdown",
      "source": [
        "#**distribution of the room type over the location**"
      ],
      "metadata": {
        "id": "xfJuu5Lc0ugF"
      }
    },
    {
      "cell_type": "code",
      "source": [
        "sns.scatterplot(x=df['longitude'],y=df['latitude'],hue=df['room_type'])"
      ],
      "metadata": {
        "id": "C6eemowG085m"
      },
      "execution_count": null,
      "outputs": []
    },
    {
      "cell_type": "markdown",
      "source": [
        "**observations-**\n",
        "\n",
        "1) that maximum numbers of room are Entire home/Apartment and Private room there are only few shared rooms .\n",
        "\n",
        "2)So mostly host prefer to give Entire home/Apartment or Private Rooms rather than Shared rooms"
      ],
      "metadata": {
        "id": "FgcloUi12KN2"
      }
    },
    {
      "cell_type": "markdown",
      "source": [
        "## **4. Solution to Business Objective**"
      ],
      "metadata": {
        "id": "JcMwzZxoAimU"
      }
    },
    {
      "cell_type": "markdown",
      "source": [
        "## **To improve the overall performance of the AirBnb following things can be considered by hosts-**\n",
        "1. Provide an accurate and optimized description of the property and update it time to time.A detailed description helps guests know what to expect and allows them to envision themselves in the space.\n",
        "2. Expanding your amenities is another way to make sure your listing stands out from the crowd.\n",
        "3. Use dynamic pricing to ensure that your listings are always competitive."
      ],
      "metadata": {
        "id": "8G2x9gOozGDZ"
      }
    },
    {
      "cell_type": "markdown",
      "source": [
        "# **How the project is useful to stakeholders?**\n",
        "\n",
        "Common examples of stakeholders include employees, customers, shareholders, suppliers, communities, and governments.\n",
        "\n",
        "1. Employees at AirBnb could use the observations to list out the properties which  have zero availability or are no more operational so that there is no misleading.\n",
        "Also, they can guide the hosts who are not getting much reviews and bookings to update the description of their property and add some more amenities due to which other properties are preferred in that area.\n",
        "\n",
        "2. The shareholders expect certain things from a business but the main interest of a shareholder is the profitability of the project or business.shareholders want the business to make huge revenues so they can get higher share prices and dividends.\n",
        "\n",
        "So they can use the project insights as a base to whether they want to invest in the business or not.\n",
        "\n",
        "They could use the the number of hosts listed and number of properties listed on AirBnd and also the average price that people are ready to pay, the number of bookings made per property for minimum number of nights.\n",
        "\n",
        "These variables can be used to find the estimated turnover of the business that they earn by the means of taxes and commission that they levy on host as well as the customer and shareholder can accordingly decide."
      ],
      "metadata": {
        "id": "xZbq4bt54Tg4"
      }
    },
    {
      "cell_type": "markdown",
      "source": [],
      "metadata": {
        "id": "pASKb0qOza21"
      }
    },
    {
      "cell_type": "markdown",
      "source": [
        "# **Conclusion**"
      ],
      "metadata": {
        "id": "gCX9965dhzqZ"
      }
    },
    {
      "cell_type": "markdown",
      "source": [
        "Airbnb isn’t a place where you book hotels (even though you can).\n",
        "\n",
        "By listing the properties of ordinary people, they set themselves apart by offering a different experience to travellers.\n",
        "\n",
        "Airbnb’s tend to be cheaper than hotels, and so the cost-conscious traveller would prefer to pay less and go without some of the frills and security that you get with a hotel"
      ],
      "metadata": {
        "id": "Fjb1IsQkh3yE"
      }
    },
    {
      "cell_type": "code",
      "source": [
        "from google.colab import drive\n",
        "drive.mount('/content/drive')"
      ],
      "metadata": {
        "id": "oR5nmsOaG3oD"
      },
      "execution_count": null,
      "outputs": []
    }
  ]
}