{
  "nbformat": 4,
  "nbformat_minor": 0,
  "metadata": {
    "colab": {
      "private_outputs": true,
      "provenance": [],
      "collapsed_sections": [
        "vncDsAP0Gaoa",
        "FJNUwmbgGyua",
        "w6K7xa23Elo4",
        "yQaldy8SH6Dl",
        "PH-0ReGfmX4f",
        "mDgbUHAGgjLW",
        "O_i_v8NEhb9l",
        "HhfV-JJviCcP",
        "Y3lxredqlCYt",
        "3RnN4peoiCZX",
        "x71ZqKXriCWQ",
        "7hBIi_osiCS2",
        "JlHwYmJAmNHm",
        "35m5QtbWiB9F",
        "PoPl-ycgm1ru",
        "H0kj-8xxnORC",
        "nA9Y7ga8ng1Z",
        "PBTbrJXOngz2",
        "u3PMJOP6ngxN",
        "dauF4eBmngu3",
        "bKJF3rekwFvQ",
        "MSa1f5Uengrz",
        "GF8Ens_Soomf",
        "0wOQAZs5pc--",
        "K5QZ13OEpz2H",
        "lQ7QKXXCp7Bj",
        "448CDAPjqfQr",
        "KSlN3yHqYklG",
        "t6dVpIINYklI",
        "ijmpgYnKYklI",
        "-JiQyfWJYklI",
        "EM7whBJCYoAo",
        "fge-S5ZAYoAp",
        "85gYPyotYoAp",
        "RoGjAbkUYoAp",
        "4Of9eVA-YrdM",
        "iky9q4vBYrdO",
        "F6T5p64dYrdO",
        "y-Ehk30pYrdP",
        "bamQiAODYuh1",
        "QHF8YVU7Yuh3",
        "GwzvFGzlYuh3",
        "qYpmQ266Yuh3",
        "OH-pJp9IphqM",
        "bbFf2-_FphqN",
        "_ouA3fa0phqN",
        "Seke61FWphqN",
        "PIIx-8_IphqN",
        "t27r6nlMphqO",
        "r2jJGEOYphqO",
        "b0JNsNcRphqO",
        "BZR9WyysphqO",
        "jj7wYXLtphqO",
        "eZrbJ2SmphqO",
        "rFu4xreNphqO",
        "YJ55k-q6phqO",
        "gCFgpxoyphqP",
        "OVtJsKN_phqQ",
        "lssrdh5qphqQ",
        "U2RJ9gkRphqQ",
        "1M8mcRywphqQ",
        "tgIPom80phqQ",
        "JMzcOPDDphqR",
        "x-EpHcCOp1ci",
        "X_VqEhTip1ck",
        "8zGJKyg5p1ck",
        "PVzmfK_Ep1ck",
        "n3dbpmDWp1ck",
        "ylSl6qgtp1ck",
        "ZWILFDl5p1ck",
        "M7G43BXep1ck",
        "Ag9LCva-p1cl",
        "E6MkPsBcp1cl",
        "2cELzS2fp1cl",
        "3MPXvC8up1cl",
        "NC_X3p0fY2L0",
        "UV0SzAkaZNRQ",
        "YPEH6qLeZNRQ",
        "q29F0dvdveiT",
        "EXh0U9oCveiU",
        "22aHeOlLveiV",
        "JcMwzZxoAimU",
        "8G2x9gOozGDZ",
        "gCX9965dhzqZ",
        "gIfDvo9L0UH2"
      ],
      "include_colab_link": true
    },
    "kernelspec": {
      "name": "python3",
      "display_name": "Python 3"
    },
    "language_info": {
      "name": "python"
    }
  },
  "cells": [
    {
      "cell_type": "markdown",
      "metadata": {
        "id": "view-in-github",
        "colab_type": "text"
      },
      "source": [
        "<a href=\"https://colab.research.google.com/github/sanjananasa/AirBnb-booking-analysis/blob/main/EDA_project_Hotel_booking_analysis.ipynb\" target=\"_parent\"><img src=\"https://colab.research.google.com/assets/colab-badge.svg\" alt=\"Open In Colab\"/></a>"
      ]
    },
    {
      "cell_type": "markdown",
      "source": [
        "# **Project Name**    - Hotel Booking Analysis\n",
        "\n"
      ],
      "metadata": {
        "id": "vncDsAP0Gaoa"
      }
    },
    {
      "cell_type": "markdown",
      "source": [
        "##**Project Type**    - EDA\n",
        "## **Contribution**    - Individual\n",
        "## **Name**- Sanjana Nasa"
      ],
      "metadata": {
        "id": "beRrZCGUAJYm"
      }
    },
    {
      "cell_type": "markdown",
      "source": [
        "# **Project Summary -**"
      ],
      "metadata": {
        "id": "FJNUwmbgGyua"
      }
    },
    {
      "cell_type": "markdown",
      "source": [
        "#This data set contains booking information for a city hotel and a resort hotel, and includes information such as when the booking was made, length of stay, the number of adults, children, and/or babies, and the number of available parking spaces, among other things. All personally identifying information has been removed from the data. Here we will explore and analyse the data to discover important factors that govern the bookings."
      ],
      "metadata": {
        "id": "F6v_1wHtG2nS"
      }
    },
    {
      "cell_type": "markdown",
      "source": [
        "# **GitHub Link -**"
      ],
      "metadata": {
        "id": "w6K7xa23Elo4"
      }
    },
    {
      "cell_type": "markdown",
      "source": [
        "Provide your GitHub Link here."
      ],
      "metadata": {
        "id": "h1o69JH3Eqqn"
      }
    },
    {
      "cell_type": "markdown",
      "source": [
        "# **Problem Statement**\n"
      ],
      "metadata": {
        "id": "yQaldy8SH6Dl"
      }
    },
    {
      "cell_type": "markdown",
      "source": [
        "#Have you ever wondered when the best time of year to book a hotel room is? Or the optimal length of stay in order to get the best daily rate? What if you wanted to predict whether or not a hotel was likely to receive a disproportionately high number of special requests? This hotel booking dataset can help you explore those questions!   \n",
        "#Hotel industry is a very volatile industry and the bookings depend on various factors such as when the booking was made, length of stay ,  number of adults , children , number of available parking spaces,etc.   lets deep dive into the information and draw valuable insights."
      ],
      "metadata": {
        "id": "DpeJGUA3kjGy"
      }
    },
    {
      "cell_type": "markdown",
      "source": [
        "#### **Define Your Business Objective?**"
      ],
      "metadata": {
        "id": "PH-0ReGfmX4f"
      }
    },
    {
      "cell_type": "markdown",
      "source": [
        "#The main objective behind this project is to explore and analyze data to discover important factors that govern the bookings and provide valuable insight to Hotel Management, which can perform various activities to boost the business."
      ],
      "metadata": {
        "id": "PhDvGCAqmjP1"
      }
    },
    {
      "cell_type": "markdown",
      "source": [
        "# **General Guidelines** : -  "
      ],
      "metadata": {
        "id": "mDgbUHAGgjLW"
      }
    },
    {
      "cell_type": "markdown",
      "source": [
        "1.   Well-structured, formatted, and commented code is required.\n",
        "2.   Exception Handling, Production Grade Code & Deployment Ready Code will be a plus. Those students will be awarded some additional credits.\n",
        "     \n",
        "     The additional credits will have advantages over other students during Star Student selection.\n",
        "       \n",
        "             [ Note: - Deployment Ready Code is defined as, the whole .ipynb notebook should be executable in one go\n",
        "                       without a single error logged. ]\n",
        "\n",
        "3.   Each and every logic should have proper comments.\n",
        "4. You may add as many number of charts you want. Make Sure for each and every chart the following format should be answered.\n",
        "        \n",
        "\n",
        "```\n",
        "# Chart visualization code\n",
        "```\n",
        "            \n",
        "\n",
        "*   Why did you pick the specific chart?\n",
        "*   What is/are the insight(s) found from the chart?\n",
        "* Will the gained insights help creating a positive business impact?\n",
        "Are there any insights that lead to negative growth? Justify with specific reason.\n",
        "\n",
        "5. You have to create at least 20 logical & meaningful charts having important insights.\n",
        "\n",
        "\n",
        "[ Hints : - Do the Vizualization in  a structured way while following \"UBM\" Rule.\n",
        "\n",
        "U - Univariate Analysis,\n",
        "\n",
        "B - Bivariate Analysis (Numerical - Categorical, Numerical - Numerical, Categorical - Categorical)\n",
        "\n",
        "M - Multivariate Analysis\n",
        " ]\n",
        "\n",
        "\n",
        "\n"
      ],
      "metadata": {
        "id": "ZrxVaUj-hHfC"
      }
    },
    {
      "cell_type": "markdown",
      "source": [
        "# ***Let's Begin !***"
      ],
      "metadata": {
        "id": "O_i_v8NEhb9l"
      }
    },
    {
      "cell_type": "markdown",
      "source": [
        "## ***1. Know Your Data***"
      ],
      "metadata": {
        "id": "HhfV-JJviCcP"
      }
    },
    {
      "cell_type": "markdown",
      "source": [
        "### Import Libraries"
      ],
      "metadata": {
        "id": "Y3lxredqlCYt"
      }
    },
    {
      "cell_type": "code",
      "source": [
        "# Import Libraries\n",
        "import numpy as np\n",
        "import pandas as pd\n",
        "import matplotlib.pyplot as plt\n",
        "import seaborn as sns"
      ],
      "metadata": {
        "id": "M8Vqi-pPk-HR"
      },
      "execution_count": null,
      "outputs": []
    },
    {
      "cell_type": "markdown",
      "source": [
        "### Dataset Loading"
      ],
      "metadata": {
        "id": "3RnN4peoiCZX"
      }
    },
    {
      "cell_type": "code",
      "source": [
        "from google.colab import drive\n",
        "drive.mount('/content/drive')"
      ],
      "metadata": {
        "id": "WASjckun9lEe"
      },
      "execution_count": null,
      "outputs": []
    },
    {
      "cell_type": "code",
      "source": [
        "# Load Dataset\n",
        "data=pd.read_csv(\"/content/drive/MyDrive/Hotel Bookings.csv\")"
      ],
      "metadata": {
        "id": "4CkvbW_SlZ_R"
      },
      "execution_count": null,
      "outputs": []
    },
    {
      "cell_type": "markdown",
      "source": [
        "### Dataset First View"
      ],
      "metadata": {
        "id": "x71ZqKXriCWQ"
      }
    },
    {
      "cell_type": "code",
      "source": [
        "# Dataset First Look\n",
        "data.head()"
      ],
      "metadata": {
        "id": "LWNFOSvLl09H"
      },
      "execution_count": null,
      "outputs": []
    },
    {
      "cell_type": "code",
      "source": [
        "data.tail()"
      ],
      "metadata": {
        "id": "oSpOK1JiikCM"
      },
      "execution_count": null,
      "outputs": []
    },
    {
      "cell_type": "markdown",
      "source": [
        "### Dataset Rows & Columns count"
      ],
      "metadata": {
        "id": "7hBIi_osiCS2"
      }
    },
    {
      "cell_type": "code",
      "source": [
        "# Dataset Rows & Columns count\n",
        "data.shape"
      ],
      "metadata": {
        "id": "Kllu7SJgmLij"
      },
      "execution_count": null,
      "outputs": []
    },
    {
      "cell_type": "markdown",
      "source": [
        "### Dataset Information"
      ],
      "metadata": {
        "id": "JlHwYmJAmNHm"
      }
    },
    {
      "cell_type": "code",
      "source": [
        "# Dataset Info\n",
        "data.info()"
      ],
      "metadata": {
        "id": "e9hRXRi6meOf"
      },
      "execution_count": null,
      "outputs": []
    },
    {
      "cell_type": "markdown",
      "source": [
        "#### Duplicate Values"
      ],
      "metadata": {
        "id": "35m5QtbWiB9F"
      }
    },
    {
      "cell_type": "code",
      "source": [
        "# Dataset Duplicate Value Count\n",
        "data.duplicated().value_counts()"
      ],
      "metadata": {
        "id": "1sLdpKYkmox0"
      },
      "execution_count": null,
      "outputs": []
    },
    {
      "cell_type": "code",
      "source": [
        "#dropping duplicate values\n",
        "data.drop_duplicates(inplace=True)"
      ],
      "metadata": {
        "id": "rVGCNKEv_eWQ"
      },
      "execution_count": null,
      "outputs": []
    },
    {
      "cell_type": "code",
      "source": [
        "data.shape"
      ],
      "metadata": {
        "id": "w33HY7zs_rn1"
      },
      "execution_count": null,
      "outputs": []
    },
    {
      "cell_type": "markdown",
      "source": [
        "#### Missing Values/Null Values"
      ],
      "metadata": {
        "id": "PoPl-ycgm1ru"
      }
    },
    {
      "cell_type": "code",
      "source": [
        "# Missing Values/Null Values Count\n",
        "missing_values=data.isnull().sum().sort_values(ascending=False)\n",
        "print(missing_values)"
      ],
      "metadata": {
        "id": "GgHWkxvamxVg"
      },
      "execution_count": null,
      "outputs": []
    },
    {
      "cell_type": "code",
      "source": [
        "# Visualizing the missing values\n",
        "\n",
        "plt.figure(figsize=(10, 6))\n",
        "sns.barplot(x=missing_values.index, y=missing_values.values)\n",
        "plt.xticks(rotation=90)\n",
        "plt.xlabel('Variables')\n",
        "plt.ylabel('Missing Values Count')\n",
        "plt.title('Missing Values in the Dataset')\n",
        "plt.show()"
      ],
      "metadata": {
        "id": "3q5wnI3om9sJ"
      },
      "execution_count": null,
      "outputs": []
    },
    {
      "cell_type": "code",
      "source": [
        "#filling the missing values with NaN Character\n",
        "data.fillna(np.nan,inplace=True)"
      ],
      "metadata": {
        "id": "CLz0upz6ftWR"
      },
      "execution_count": null,
      "outputs": []
    },
    {
      "cell_type": "markdown",
      "source": [
        "## ***2. Understanding Your Variables***"
      ],
      "metadata": {
        "id": "nA9Y7ga8ng1Z"
      }
    },
    {
      "cell_type": "code",
      "source": [
        "# Dataset Columns\n",
        "data.columns"
      ],
      "metadata": {
        "id": "j7xfkqrt5Ag5"
      },
      "execution_count": null,
      "outputs": []
    },
    {
      "cell_type": "code",
      "source": [
        "# Dataset Describe\n",
        "data.describe()"
      ],
      "metadata": {
        "id": "DnOaZdaE5Q5t"
      },
      "execution_count": null,
      "outputs": []
    },
    {
      "cell_type": "markdown",
      "source": [
        "#**Description of each variable**"
      ],
      "metadata": {
        "id": "Iv-KLOp7hKbU"
      }
    },
    {
      "cell_type": "markdown",
      "source": [
        "#**hotel**- H1-resort hotel, H2- city hotel\n",
        "#**is_canceled**-if the booking was cancelled (1) or not(0)\n",
        "#**lead_time**- number of days that elapsed between the entering date of the booking into the PMS and the arrival date\n",
        "#**arrival_date_year**- year of arrival date\n",
        "#**arrival_date_month**-month of arrival date\n",
        "#**arrival_date_week_number** - week number of arrival date\n",
        "#**arrival_date_day_of_month** - day of arrival date\n",
        "#**stays_in_weekend_nights** -  number of weekend nights(saturday or sunday) the guests stayed or booked to stay at the hotel\n",
        "#**stays_in_week_nights**- number of week nights (monday to friday) the guests stayed or booked to stay at hotel\n",
        "#**adults**-number of adults\n",
        "#**children** - number of children\n",
        "#**babies** - number of babies\n",
        "#**meal** - kind of meal opted for\n",
        "#**country** - country code\n",
        "#**market_segment** - which segment the customer belongs to\n",
        "#**distribution_channel**  - how the customer accessed the stay - corporate booking/ direct/ TA.TO\n",
        "#**is_repeated_guest** - guests coming for the first time or not\n",
        "#**previous_cancellations**- was there a cancellation before\n",
        "#**previous_bookings**- previous bookings counts\n",
        "#**reserved_room_type** - type of room reserved\n",
        "#**assigned_room_type** - type of room assigned\n",
        "#**booking_changes**- count of changes made to booking\n",
        "#**deposit_type-**  deposit type\n",
        "#**agent**  - booked through agent\n",
        "#**days_in_waiting_list** - number of days in waiting list\n",
        "#**customer_type** - type of customer\n",
        "#**required_car_parking_spaces**  - if car parking is required\n",
        "#**total_of_special_requests** - number of additional special requests\n",
        "#**adr**-average daily rate\n",
        "#**reservation_status** - status of reservation\n",
        "#**reservation_status_date**  - specific date of reservation statu\n",
        "\n"
      ],
      "metadata": {
        "id": "aJV4KIxSnxay"
      }
    },
    {
      "cell_type": "markdown",
      "source": [
        "### Check Unique Values for each variable."
      ],
      "metadata": {
        "id": "u3PMJOP6ngxN"
      }
    },
    {
      "cell_type": "code",
      "source": [
        "# Check Unique Values for each variable.\n",
        "print(data.apply(lambda col : col.unique()))"
      ],
      "metadata": {
        "id": "zms12Yq5n-jE"
      },
      "execution_count": null,
      "outputs": []
    },
    {
      "cell_type": "markdown",
      "source": [
        "## 3. ***Data Wrangling***"
      ],
      "metadata": {
        "id": "dauF4eBmngu3"
      }
    },
    {
      "cell_type": "markdown",
      "source": [
        "### Data Wrangling Code"
      ],
      "metadata": {
        "id": "bKJF3rekwFvQ"
      }
    },
    {
      "cell_type": "markdown",
      "source": [
        "#**Data cleaning**"
      ],
      "metadata": {
        "id": "ISapSoPfjXVs"
      }
    },
    {
      "cell_type": "markdown",
      "source": [
        "we saw above that only 4 columns have missing values.They are as follows"
      ],
      "metadata": {
        "id": "u3pTCrgnkzC0"
      }
    },
    {
      "cell_type": "code",
      "source": [
        "missing_values[:4]"
      ],
      "metadata": {
        "id": "osXG-R0pkCWx"
      },
      "execution_count": null,
      "outputs": []
    },
    {
      "cell_type": "markdown",
      "source": [
        "calculating percentage of missing values in each of the above columns"
      ],
      "metadata": {
        "id": "4kLPMBy1mvHq"
      }
    },
    {
      "cell_type": "code",
      "source": [
        "\n",
        "rows=87396\n",
        "\n",
        "# % null values for company column\n",
        "company_null_percentage=missing_values[0]/rows*100\n",
        "print(company_null_percentage)"
      ],
      "metadata": {
        "id": "ECWfBW3ClC2C"
      },
      "execution_count": null,
      "outputs": []
    },
    {
      "cell_type": "markdown",
      "source": [
        "\"company\" column contains more than 90% null/missing values, so it would be better to drop this column"
      ],
      "metadata": {
        "id": "vfAfYpfbtF2r"
      }
    },
    {
      "cell_type": "code",
      "source": [
        "#dropping company columnn\n",
        "data.drop(['company'],axis=1, inplace=True)"
      ],
      "metadata": {
        "id": "3ohdld6JrJyM"
      },
      "execution_count": null,
      "outputs": []
    },
    {
      "cell_type": "code",
      "source": [
        "#% null values for agent column\n",
        "agent_null_percentage=missing_values[1]/rows*100\n",
        "print(agent_null_percentage)"
      ],
      "metadata": {
        "id": "EBBZoJBql00k"
      },
      "execution_count": null,
      "outputs": []
    },
    {
      "cell_type": "markdown",
      "source": [
        "There is very less percentage of null values in agent column , lets fill these values with mode value"
      ],
      "metadata": {
        "id": "LO5vx6o_tSca"
      }
    },
    {
      "cell_type": "code",
      "source": [
        "#fill null values of agent column with mode value\n",
        "mode_value = data['agent'].mode().values[0]\n",
        "data['agent'].fillna(mode_value,inplace=True)"
      ],
      "metadata": {
        "id": "kc__861JtkKU"
      },
      "execution_count": null,
      "outputs": []
    },
    {
      "cell_type": "code",
      "source": [
        "# % null values for country column\n",
        "country_null_percentage=missing_values[2]/rows*100\n",
        "print(country_null_percentage)"
      ],
      "metadata": {
        "id": "-ZnD4Ln3mCt2"
      },
      "execution_count": null,
      "outputs": []
    },
    {
      "cell_type": "code",
      "source": [
        "# % null values for children column\n",
        "child_null_percentage=missing_values[3]/rows*100\n",
        "print(child_null_percentage)"
      ],
      "metadata": {
        "id": "3_KOp0yBmc2Z"
      },
      "execution_count": null,
      "outputs": []
    },
    {
      "cell_type": "markdown",
      "source": [
        "The percentage of null values is  almost negligible  for \"country\" and \"children\" column. so we can fill **\"others\"** in country column in place if null values and **0** in children column"
      ],
      "metadata": {
        "id": "9qk--M5GuSad"
      }
    },
    {
      "cell_type": "code",
      "source": [
        "data['country'].fillna(value=\"others\", inplace=True)\n",
        "data['children'].fillna(value=0,inplace=True)"
      ],
      "metadata": {
        "id": "IJ_1sQfGu6Fp"
      },
      "execution_count": null,
      "outputs": []
    },
    {
      "cell_type": "code",
      "source": [
        "data.isnull().sum()"
      ],
      "metadata": {
        "id": "b4_qbwgNvf8c"
      },
      "execution_count": null,
      "outputs": []
    },
    {
      "cell_type": "markdown",
      "source": [
        "now there are no null values in the dataset"
      ],
      "metadata": {
        "id": "jituNBQZvjzk"
      }
    },
    {
      "cell_type": "code",
      "source": [
        "data.info()"
      ],
      "metadata": {
        "id": "QgrP4K7jww2o"
      },
      "execution_count": null,
      "outputs": []
    },
    {
      "cell_type": "markdown",
      "source": [
        "\"children\"  and  \"agent\"  column data type is float64  , so changing it to integer type as number of children has to be an integer and agent columns consiste of agent id which again is an integer"
      ],
      "metadata": {
        "id": "5nnXFGae93Tt"
      }
    },
    {
      "cell_type": "code",
      "source": [
        "data[['children','agent']]=data[['children','agent']].astype('int64')"
      ],
      "metadata": {
        "id": "m96HPoCc-Qpa"
      },
      "execution_count": null,
      "outputs": []
    },
    {
      "cell_type": "markdown",
      "source": [
        "#creating new columns as per requirement"
      ],
      "metadata": {
        "id": "O0F2LrAq-p13"
      }
    },
    {
      "cell_type": "code",
      "source": [
        "#total number of nights for which the customer has made the booking\n",
        "data['total_stay_in_nights']=data['stays_in_week_nights']+data['stays_in_weekend_nights']"
      ],
      "metadata": {
        "id": "n-mKnoJk-u4V"
      },
      "execution_count": null,
      "outputs": []
    },
    {
      "cell_type": "code",
      "source": [
        "#totel revenue\n",
        "data['revenue']=data['total_stay_in_nights']*data['adr']"
      ],
      "metadata": {
        "id": "N3Rqhfi2ABKe"
      },
      "execution_count": null,
      "outputs": []
    },
    {
      "cell_type": "markdown",
      "source": [
        "\"is_canceled\"  and \"is_repeated_guest\" column contains value 0 and 1 , where 0 stands for \"NO\" and 1 stands for \"YES\""
      ],
      "metadata": {
        "id": "a-p5FPTa3pWf"
      }
    },
    {
      "cell_type": "code",
      "source": [
        "data['is_canceled']=data['is_canceled'].replace([0,1],['not_canceled','canceled'])\n",
        "data['is_repeated_guest']=data['is_repeated_guest'].replace([0,1],['not_repeated','repeated'])"
      ],
      "metadata": {
        "id": "YJfSRQMJAjIP"
      },
      "execution_count": null,
      "outputs": []
    },
    {
      "cell_type": "code",
      "source": [
        "#lets check the overall revenue hotel wise\n",
        "hotel_revenue=data.groupby('hotel')['revenue'].sum()\n",
        "print(hotel_revenue)"
      ],
      "metadata": {
        "id": "DlJRB2Uq5H9C"
      },
      "execution_count": null,
      "outputs": []
    },
    {
      "cell_type": "markdown",
      "source": [
        "## ***4. Data Vizualization, Storytelling & Experimenting with charts : Understand the relationships between variables***"
      ],
      "metadata": {
        "id": "GF8Ens_Soomf"
      }
    },
    {
      "cell_type": "markdown",
      "source": [
        "#**Univariate Analysis**"
      ],
      "metadata": {
        "id": "jmvD_MWcb9JY"
      }
    },
    {
      "cell_type": "markdown",
      "source": [
        "# 1. hotel"
      ],
      "metadata": {
        "id": "0wOQAZs5pc--"
      }
    },
    {
      "cell_type": "code",
      "source": [
        "# number of each type of hotel\n",
        "number_of_hotel=data['hotel'].value_counts()\n",
        "print(number_of_hotel)\n",
        "\n",
        "\n",
        "plt.pie(number_of_hotel.values,labels=number_of_hotel.index,autopct='%1.1f%%')\n",
        "plt.legend()\n",
        "\n",
        "plt.title('percentage of each category of hotel')\n",
        "\n",
        "plt.show()"
      ],
      "metadata": {
        "id": "7v_ESjsspbW7"
      },
      "execution_count": null,
      "outputs": []
    },
    {
      "cell_type": "markdown",
      "source": [
        "#There are 2 categories of hotel , namely, **City Hotel** and **Resort Hotel** which are distributed in the ratio 3:2 respectively.\n",
        "\n",
        "#60% of hotels are city hotel and 40% resort hotel"
      ],
      "metadata": {
        "id": "DqU01YflkBoB"
      }
    },
    {
      "cell_type": "markdown",
      "source": [
        "#2.arrival date year(Busiest year)"
      ],
      "metadata": {
        "id": "kJtb48rP8Tg4"
      }
    },
    {
      "cell_type": "code",
      "source": [
        "# visualization code\n",
        "yearly_booking=data.groupby('arrival_date_year')['is_canceled'].value_counts()\n",
        "print(yearly_booking)\n",
        "\n",
        "for year in sorted(yearly_booking.index.get_level_values('arrival_date_year').unique()):\n",
        "    # Filter data for the current year\n",
        "    year_data = yearly_booking.loc[year]\n",
        "\n",
        "    # Prepare the data for the pie chart\n",
        "    labels = year_data.index\n",
        "    values = year_data.values\n",
        "\n",
        "    # Create a new figure and set the title\n",
        "    plt.figure()\n",
        "    plt.title(f'Pie Chart for Year {year}')\n",
        "\n",
        "    # Create the pie chart\n",
        "    plt.pie(values, labels=labels, autopct='%1.1f%%')\n",
        "\n",
        "    # Display the chart\n",
        "    plt.show()\n"
      ],
      "metadata": {
        "id": "t6GMdE67YoAp"
      },
      "execution_count": null,
      "outputs": []
    },
    {
      "cell_type": "markdown",
      "source": [
        "#Here we have data for the years 2015, 2016 and 2017\n",
        "#Of all the 3 years,2015 has been the most busiest year with almost 80% of non canceled bookings."
      ],
      "metadata": {
        "id": "ttFZ7STpk9dt"
      }
    },
    {
      "cell_type": "markdown",
      "source": [
        "# 3. Distribution_channel\n",
        "\n",
        "#(different channels used to make bookings)"
      ],
      "metadata": {
        "id": "bamQiAODYuh1"
      }
    },
    {
      "cell_type": "code",
      "source": [
        "channels=data['distribution_channel'].value_counts()\n",
        "print(channels)"
      ],
      "metadata": {
        "id": "FisTAKkC9bZW"
      },
      "execution_count": null,
      "outputs": []
    },
    {
      "cell_type": "code",
      "source": [
        "#visualisation code\n",
        "plt.figure(figsize=(8,6))\n",
        "plt.pie(channels.values,labels=channels.index, autopct='%1.1f%%')\n",
        "plt.legend()\n",
        "plt.title(\"mostly used distribution channels for hotel bookings\")\n"
      ],
      "metadata": {
        "id": "uzliFaZg9kxl"
      },
      "execution_count": null,
      "outputs": []
    },
    {
      "cell_type": "markdown",
      "source": [
        "#Majorly we have 4 diffrent distribution channels through which bookings have been made, they are as follows-\n",
        "#1.TA/TO-travel agents/travel operators\n",
        "#2.corporate\n",
        "#3.direct-direct bookings without any agent\n",
        "#4.GDS- Global Distribution System\n",
        "# and most of the bookings  (79.1%) have been made through TA/TO"
      ],
      "metadata": {
        "id": "IYBfx3Pim5bp"
      }
    },
    {
      "cell_type": "markdown",
      "source": [
        "#4.customer"
      ],
      "metadata": {
        "id": "OH-pJp9IphqM"
      }
    },
    {
      "cell_type": "code",
      "source": [
        "#visualization code\n",
        "customer=data['customer_type'].value_counts()\n",
        "print(customer)\n"
      ],
      "metadata": {
        "id": "kuRf4wtuphqN"
      },
      "execution_count": null,
      "outputs": []
    },
    {
      "cell_type": "code",
      "source": [
        "categories=list(customer.index)\n",
        "values=list(customer.values)\n",
        "\n",
        "plt.pie(values,labels=categories,autopct='%1.1f%%')\n",
        "plt.legend(loc='upper right')\n",
        "\n",
        "plt.title(\"distribution of customer type\")"
      ],
      "metadata": {
        "id": "dux8QyBr2NmL"
      },
      "execution_count": null,
      "outputs": []
    },
    {
      "cell_type": "markdown",
      "source": [
        "#Most of the customers/guests were transient type (82.4%), and transient party were (13.4%),  0.6% belongs to group and remaining 3.6% belongs to contract type"
      ],
      "metadata": {
        "id": "21CuIfg_pEun"
      }
    },
    {
      "cell_type": "markdown",
      "source": [
        "**Transient-**Transient guests are those who make reservation directly with the hotel\n",
        "\n",
        "**Transient party-**when the booking is transient but is associated to atleast other transient booking\n",
        "\n",
        "**contract-**when the booking has an allotment or other type of contract associated with it\n",
        "\n",
        "**Group-**when the booking is associated with a group"
      ],
      "metadata": {
        "id": "9Yr2nV_WqCxD"
      }
    },
    {
      "cell_type": "markdown",
      "source": [
        "#5.Deposit Type"
      ],
      "metadata": {
        "id": "kS6gfWsVL7Am"
      }
    },
    {
      "cell_type": "code",
      "source": [
        "deposit=data['deposit_type'].value_counts()\n",
        "print(deposit)"
      ],
      "metadata": {
        "id": "VAt0aG38L_IQ"
      },
      "execution_count": null,
      "outputs": []
    },
    {
      "cell_type": "code",
      "source": [
        "#distribution of deposit type\n",
        "plt.figure(figsize=(10,8))\n",
        "plt.pie(deposit.values,labels=deposit.index,autopct='%1.1f%%')\n",
        "plt.legend()\n",
        "\n",
        "plt.show()"
      ],
      "metadata": {
        "id": "xktteA3qMLjy"
      },
      "execution_count": null,
      "outputs": []
    },
    {
      "cell_type": "markdown",
      "source": [
        "#for 98.7% of bookings made, the payment has not be done beforehand.\n",
        "#and those for which payment has been made ,1.2 %  of the bookings are non_refundable and 0.1% is refundable"
      ],
      "metadata": {
        "id": "JVfJBTDHvM_4"
      }
    },
    {
      "cell_type": "markdown",
      "source": [
        "#6.Meal"
      ],
      "metadata": {
        "id": "NZJL4m8LOPAY"
      }
    },
    {
      "cell_type": "code",
      "source": [
        "meal_type=data['meal'].value_counts()\n",
        "print(meal_type)"
      ],
      "metadata": {
        "id": "f6TPIDxDOJfW"
      },
      "execution_count": null,
      "outputs": []
    },
    {
      "cell_type": "code",
      "source": [
        "#visualising preference of meal type\n",
        "\n",
        "plt.bar(meal_type.index,meal_type.values)\n",
        "plt.title('preferred meal type')\n",
        "plt.xlabel(\"meal type\")\n",
        "plt.ylabel(\"count\")"
      ],
      "metadata": {
        "id": "6LEeCbo9Olbr"
      },
      "execution_count": null,
      "outputs": []
    },
    {
      "cell_type": "markdown",
      "source": [
        "# BB(Bed and Breakfast) is the most preferred meal type.\n",
        "#FB(Full Board) is least preferred\n",
        "#SC(Self catering) and HB(half board) are equally preferred"
      ],
      "metadata": {
        "id": "mh2MZIbewTDX"
      }
    },
    {
      "cell_type": "markdown",
      "source": [
        "#7.Country"
      ],
      "metadata": {
        "id": "EbUwPGnNdW6w"
      }
    },
    {
      "cell_type": "code",
      "source": [
        "#countrywise booking percentage\n",
        "country_perc=data.country.value_counts(normalize=True)\n",
        "print(country_perc)"
      ],
      "metadata": {
        "id": "bZMFuxVvdXpb"
      },
      "execution_count": null,
      "outputs": []
    },
    {
      "cell_type": "code",
      "source": [
        "#top five countries\n",
        "top_five=country_perc[:5]\n",
        "print(top_five)\n",
        "\n",
        "#visualisation code\n",
        "plt.bar(top_five.index,top_five.values)\n",
        "\n",
        "plt.legend()\n",
        "plt.title(\"top five countries that made bookings\")\n",
        "plt.xlabel(\"countries\")\n",
        "plt.ylabel(\"booking percentage\")"
      ],
      "metadata": {
        "id": "o4-eOTLDdfgL"
      },
      "execution_count": null,
      "outputs": []
    },
    {
      "cell_type": "markdown",
      "source": [
        "#major percentage of guests came from Portugal(PRT), Great Britain(GBR) , France(FRA), Spain(ESP) and Germany(DEU) respectively."
      ],
      "metadata": {
        "id": "UvqCTAHL0wIb"
      }
    },
    {
      "cell_type": "markdown",
      "source": [
        "#8.Is_canceled"
      ],
      "metadata": {
        "id": "3jGYJ3C750WT"
      }
    },
    {
      "cell_type": "code",
      "source": [
        "#cancellation rate\n",
        "cancel=data['is_canceled'].value_counts()\n",
        "print(cancel)\n",
        "\n",
        "#visualising cancellation rate\n",
        "plt.pie(cancel.values,labels=cancel.index,autopct='%1.1f%%')\n",
        "plt.title('cancellation rate')\n",
        "plt.show()\n"
      ],
      "metadata": {
        "id": "qZE9R8k55-dc"
      },
      "execution_count": null,
      "outputs": []
    },
    {
      "cell_type": "markdown",
      "source": [
        "#cancellation rate is fairly high(27.5%)\n",
        "#A significant percentage of bookings face cancellation"
      ],
      "metadata": {
        "id": "-LbZMvDZ2dKH"
      }
    },
    {
      "cell_type": "markdown",
      "source": [
        "#9.Reserved room type"
      ],
      "metadata": {
        "id": "ydkBviS__i_1"
      }
    },
    {
      "cell_type": "code",
      "source": [
        "#number of reservations made for each room type\n",
        "res_room=data['reserved_room_type'].value_counts().sort_index()\n",
        "print(res_room)\n",
        "\n",
        "#visualisation code\n",
        "plt.bar(res_room.index,res_room.values)\n",
        "\n",
        "plt.title(\"room type preference\")\n",
        "plt.xlabel(\"room type\")\n",
        "plt.ylabel('reservation count')\n",
        "\n",
        "plt.show()"
      ],
      "metadata": {
        "id": "Ef2WNCtu_naL"
      },
      "execution_count": null,
      "outputs": []
    },
    {
      "cell_type": "markdown",
      "source": [
        "#Here we have different room categories and reservation received for each room type.\n",
        "\n",
        "# we can clearly see that maximum reservation received is for room type \"A\" and least for type \"H\",\"L\" and \"P\""
      ],
      "metadata": {
        "id": "YVGORR0520fd"
      }
    },
    {
      "cell_type": "markdown",
      "source": [
        "#**Bivariate Analysis**"
      ],
      "metadata": {
        "id": "DUgF_lLLcwtd"
      }
    },
    {
      "cell_type": "markdown",
      "source": [
        "#bookings accross each month"
      ],
      "metadata": {
        "id": "iVPUVc2rRaxt"
      }
    },
    {
      "cell_type": "code",
      "source": [
        "# Define custom month order\n",
        "month_order = ['January', 'February', 'March', 'April', 'May', 'June',\n",
        "               'July', 'August', 'September', 'October', 'November', 'December']\n",
        "\n",
        "# Calculate value counts and sort by custom month order\n",
        "counts = data['arrival_date_month'].value_counts().reindex(month_order)\n",
        "\n",
        "# Plotting the month-wise occurrences with January first\n",
        "plt.figure(figsize=(12,10))\n",
        "plt.plot(counts)\n",
        "\n",
        "\n",
        "# Add labels and title\n",
        "plt.xlabel('Month')\n",
        "plt.ylabel('Count')\n",
        "plt.title('Number of Occurrences of Each Month')\n",
        "\n",
        "# Display the chart\n",
        "plt.show()\n",
        "\n"
      ],
      "metadata": {
        "id": "jgj5P46rXO9Z"
      },
      "execution_count": null,
      "outputs": []
    },
    {
      "cell_type": "markdown",
      "source": [
        "#As,we can see in the line chart that most of the  bookings happend during summer time, i.e, from June to August . After that, it started declining.\n",
        "\n",
        "#so we can conclude that summer time is the busiest period of the year"
      ],
      "metadata": {
        "id": "KwtGWKJb3iMe"
      }
    },
    {
      "cell_type": "markdown",
      "source": [
        "#ADR(average daily rate) accross each month"
      ],
      "metadata": {
        "id": "Sui2SOoST7AC"
      }
    },
    {
      "cell_type": "code",
      "source": [
        "plt.figure(figsize=(12,6))\n",
        "sns.lineplot(x='arrival_date_month', y='adr', hue='hotel', data= data)\n",
        "plt.title(\"monthly average rate\")\n",
        "plt.show()"
      ],
      "metadata": {
        "id": "DX6t-k79X-6v"
      },
      "execution_count": null,
      "outputs": []
    },
    {
      "cell_type": "markdown",
      "source": [
        "#As we saw above that June to August are the busiest months of the year, and hence, the prices will automatically go up,\n",
        "#we can observe the same in the given graph that June,July and August , both city as well as resort hotel have the highest ADR.\n",
        "#Also, the ADR for city hotel is less fluctuating as compared to resort hotel."
      ],
      "metadata": {
        "id": "MI5skAh864pd"
      }
    },
    {
      "cell_type": "markdown",
      "source": [
        "#Revenue generated over years"
      ],
      "metadata": {
        "id": "MsU7vCwd7JcC"
      }
    },
    {
      "cell_type": "code",
      "source": [
        "# year wise revenue\n",
        "yearly_rev=data.groupby('arrival_date_year')['revenue'].sum()\n",
        "print(yearly_rev)\n",
        "\n",
        "#visualisation code\n",
        "plt.bar(yearly_rev.index,yearly_rev.values)\n",
        "plt.title(\"year wise revenue generated\")\n",
        "plt.xlabel(\"years\")\n",
        "plt.ylabel(\"revenue\")\n",
        "\n",
        "plt.show()"
      ],
      "metadata": {
        "id": "9d9eKaqS7JJw"
      },
      "execution_count": null,
      "outputs": []
    },
    {
      "cell_type": "markdown",
      "source": [
        "#Maximum revenue was generated in 2016 and so we can assume that 2016 might be the most profitable year."
      ],
      "metadata": {
        "id": "SuI6LJb0-TI4"
      }
    },
    {
      "cell_type": "markdown",
      "source": [
        "#room type v/s ADR"
      ],
      "metadata": {
        "id": "EfVOE026Htfg"
      }
    },
    {
      "cell_type": "code",
      "source": [
        "# Calculate the average daily rate for each room type\n",
        "average_daily_rate = data.groupby('reserved_room_type')['adr'].mean().sort_values(ascending=False)\n",
        "\n",
        "# Create a bar chart to visualize the average daily rates\n",
        "plt.bar(average_daily_rate.index, average_daily_rate)\n",
        "\n",
        "# Add labels and title\n",
        "plt.xlabel('Room Type')\n",
        "plt.ylabel('Average Daily Rate')\n",
        "plt.title('Average Daily Rate by Room Type')\n",
        "\n",
        "# Rotate the x-axis labels for better visibility (optional)\n",
        "plt.xticks(rotation=45)\n",
        "\n",
        "# Display the chart\n",
        "plt.show()\n",
        "\n"
      ],
      "metadata": {
        "id": "qScfz1IpH0Vq"
      },
      "execution_count": null,
      "outputs": []
    },
    {
      "cell_type": "markdown",
      "source": [
        "# Average daily rate has been highest for the rrom type \"H\" and minimum for room type \"P\"."
      ],
      "metadata": {
        "id": "fLlFCEWg_vnQ"
      }
    },
    {
      "cell_type": "markdown",
      "source": [
        "#Distribution channel v/s waiting time"
      ],
      "metadata": {
        "id": "8-il8YICLHst"
      }
    },
    {
      "cell_type": "code",
      "source": [
        "# Calculate the average daily rate for each room type\n",
        "average_wait_time = data.groupby('distribution_channel')['days_in_waiting_list'].mean().sort_values(ascending=False)\n",
        "print(average_wait_time)\n",
        "\n",
        "# Create a bar chart to visualize the average daily rates\n",
        "plt.bar(average_wait_time.index, average_wait_time)\n",
        "\n",
        "# Add labels and title\n",
        "plt.xlabel('Distribution channel')\n",
        "plt.ylabel('Average waiting time')\n",
        "plt.title('Average waiting time when booked from different channels')\n",
        "\n",
        "# Rotate the x-axis labels for better visibility (optional)\n",
        "plt.xticks(rotation=45)\n",
        "\n",
        "# Display the chart\n",
        "plt.show()"
      ],
      "metadata": {
        "id": "ead9E8QALTY0"
      },
      "execution_count": null,
      "outputs": []
    },
    {
      "cell_type": "markdown",
      "source": [
        "#The average waiting time is maximum for those who booked through TA/TO and least for those who booked through GDS."
      ],
      "metadata": {
        "id": "v-pi-6zXAEss"
      }
    },
    {
      "cell_type": "markdown",
      "source": [
        "#**Multivariate Analysis**"
      ],
      "metadata": {
        "id": "Vn776yNUdGYV"
      }
    },
    {
      "cell_type": "markdown",
      "source": [
        "#lead time v/s cancellation"
      ],
      "metadata": {
        "id": "SyNgwgTGVd3M"
      }
    },
    {
      "cell_type": "code",
      "source": [
        "#visualising whether there is any relation between lead time and cancellation rate\n",
        "plt.figure(figsize=(12,6))\n",
        "sns.barplot(x='arrival_date_year', y='lead_time',hue='is_canceled', data= data, palette='vlag')\n",
        "plt.title('Arriving year, Leadtime and Cancelations')"
      ],
      "metadata": {
        "id": "gKS5Y9G1VOq0"
      },
      "execution_count": null,
      "outputs": []
    },
    {
      "cell_type": "markdown",
      "source": [
        "#Bookings for which lead_time is more than 80 are more likely to get cancelled."
      ],
      "metadata": {
        "id": "NssFo6o4BlDz"
      }
    },
    {
      "cell_type": "markdown",
      "source": [
        "# Correlation Heatmap"
      ],
      "metadata": {
        "id": "NC_X3p0fY2L0"
      }
    },
    {
      "cell_type": "code",
      "source": [
        "# Correlation Heatmap visualization code\n",
        "correlation_matrix=data.corr()\n",
        "\n",
        "# Set the figure size\n",
        "plt.figure(figsize=(15,12))\n",
        "sns.heatmap(correlation_matrix, annot=True, cmap='coolwarm')\n",
        "plt.title('Correlation Heatmap')\n"
      ],
      "metadata": {
        "id": "xyC9zolEZNRQ"
      },
      "execution_count": null,
      "outputs": []
    },
    {
      "cell_type": "markdown",
      "source": [
        "## **5. Solution to Business Objective**"
      ],
      "metadata": {
        "id": "JcMwzZxoAimU"
      }
    },
    {
      "cell_type": "markdown",
      "source": [
        "#### What do you suggest the client to achieve Business Objective ?\n",
        "Explain Briefly."
      ],
      "metadata": {
        "id": "8G2x9gOozGDZ"
      }
    },
    {
      "cell_type": "markdown",
      "source": [
        "#Strategies to Counter High Cancellations at the Hotel\n",
        "1.Set Non-refundable Rates, Collect deposits, and implement more rigid cancellation policies.\n",
        "\n",
        "2.Encourage Direct bookings by offering special discounts\n",
        "\n",
        "3.Monitor where the cancellations are coming from such as Market Segment, distribution channels, etc."
      ],
      "metadata": {
        "id": "pASKb0qOza21"
      }
    },
    {
      "cell_type": "markdown",
      "source": [
        "# **Conclusion**"
      ],
      "metadata": {
        "id": "gCX9965dhzqZ"
      }
    },
    {
      "cell_type": "markdown",
      "source": [
        "(1) Around 60% bookings are for City hotel and 40% bookings are for Resort hotel, therefore City Hotel is busier than Resort hotel. Also the overall adr of City hotel is slightly higher than Resort hotel.\n",
        "\n",
        "(2) Both hotels have significantly higher booking cancellation rates\n",
        "\n",
        "(3) Most of the guests came from european countries, with most of guests coming from Portugal.\n",
        "\n",
        "(4) Guests use different channels for making bookings out of which most preferred way is TA/TO.\n",
        "\n",
        "(5) For hotels higher adr deals come via GDS channel, so hotels should increase their popularity on this channel.\n",
        "\n",
        "(6) Almost 30% of bookings via TA/TO are cancelled.\n",
        "\n",
        "(7) Not getting same room as reserved, longer lead time and waiting time do not affect cancellation of bookings. Although different room allotment do lowers the adr.\n",
        "\n",
        "(8) July- August are the most busier and profitable months for both of hotels.\n",
        "\n",
        "(9) Within a month, adr gradually increases as month ends, with small sudden rise on weekends.\n",
        "\n",
        "(10) Bookings made via complementary market segment and adults have on average high no. of special request.\n",
        "\n",
        "(11) For customers, generally the longer stays (more than 15 days) can result in better deals in terms of low adr.\n"
      ],
      "metadata": {
        "id": "7ebjVG0bkpAQ"
      }
    },
    {
      "cell_type": "markdown",
      "source": [
        "#Challenges\n",
        "\n",
        "(1) There was a lot of duplicate data.\n",
        "\n",
        "(2) Data was present in wrong datatype format.\n",
        "\n",
        "(3) A lot of null values were there in the dataset."
      ],
      "metadata": {
        "id": "JlV1LAfUkUrv"
      }
    },
    {
      "cell_type": "markdown",
      "source": [],
      "metadata": {
        "id": "Fjb1IsQkh3yE"
      }
    },
    {
      "cell_type": "markdown",
      "source": [
        "### ***Hurrah! You have successfully completed your EDA Capstone Project !!!***"
      ],
      "metadata": {
        "id": "gIfDvo9L0UH2"
      }
    }
  ]
}